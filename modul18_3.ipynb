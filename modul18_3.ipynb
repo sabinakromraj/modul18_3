{
  "nbformat": 4,
  "nbformat_minor": 0,
  "metadata": {
    "colab": {
      "provenance": []
    },
    "kernelspec": {
      "name": "python3",
      "display_name": "Python 3"
    },
    "language_info": {
      "name": "python"
    }
  },
  "cells": [
    {
      "cell_type": "code",
      "execution_count": 5,
      "metadata": {
        "id": "NM_dQpvdlfkR"
      },
      "outputs": [],
      "source": [
        "import os\n",
        "import numpy as np\n",
        "import albumentations as A\n",
        "import cv2\n",
        "import matplotlib.pyplot as plt\n",
        "import tensorflow as tf\n",
        "from keras import layers\n",
        "from sklearn.utils import shuffle\n",
        "from sklearn.model_selection import train_test_split\n",
        "from sklearn.model_selection import GridSearchCV\n",
        "from sklearn.metrics import accuracy_score\n",
        "from google.colab import drive"
      ]
    },
    {
      "cell_type": "code",
      "source": [
        "fashion_mnist = tf.keras.datasets.fashion_mnist\n",
        "\n",
        "(train_images, train_labels), (test_images, test_labels) = fashion_mnist.load_data()\n",
        "\n",
        "images = np.concatenate((train_images, test_images), axis=0)\n",
        "labels = np.concatenate((train_labels, test_labels), axis=0)\n",
        "\n",
        "images = images / 255.0\n",
        "labels = labels.astype(np.int32)"
      ],
      "metadata": {
        "id": "4oOG8RCRlmlO"
      },
      "execution_count": 6,
      "outputs": []
    },
    {
      "cell_type": "code",
      "source": [
        "def baseline_model():\n",
        "    model = tf.keras.Sequential([\n",
        "        layers.Flatten(input_shape=(28, 28)),\n",
        "        layers.Dense(784, activation='relu', kernel_initializer='normal'),\n",
        "        layers.Dropout(0.2),\n",
        "        layers.Dense(128, activation='relu', kernel_initializer='normal'),\n",
        "        layers.Dropout(0.2),\n",
        "        layers.Dense(10, activation='softmax', kernel_initializer='normal')\n",
        "        ])\n",
        "    model.compile(\n",
        "        loss='sparse_categorical_crossentropy',\n",
        "        optimizer='adam',\n",
        "        metrics=['accuracy']\n",
        "        )\n",
        "\n",
        "    return model\n",
        "\n",
        "\n",
        "X_train, X_test, y_train, y_test = \\\n",
        "    train_test_split(images, labels, test_size=0.1, random_state=10, stratify=labels)\n",
        "\n",
        "tf.data.Dataset.from_tensor_slices((X_train, y_train))"
      ],
      "metadata": {
        "colab": {
          "base_uri": "https://localhost:8080/"
        },
        "id": "8Oy8_4-Blsot",
        "outputId": "4f05adad-a71f-4e21-a37c-a510e90949e8"
      },
      "execution_count": 7,
      "outputs": [
        {
          "output_type": "execute_result",
          "data": {
            "text/plain": [
              "<_TensorSliceDataset element_spec=(TensorSpec(shape=(28, 28), dtype=tf.float64, name=None), TensorSpec(shape=(), dtype=tf.int32, name=None))>"
            ]
          },
          "metadata": {},
          "execution_count": 7
        }
      ]
    },
    {
      "cell_type": "code",
      "source": [
        "model = baseline_model()\n",
        "model.fit(X_train, y_train, batch_size=64, validation_split=0.2, epochs=30, verbose=1)\n",
        "test_loss, test_acc = model.evaluate(X_test, y_test)\n",
        "print(f'Accuracy on test data: {test_acc}')"
      ],
      "metadata": {
        "colab": {
          "base_uri": "https://localhost:8080/"
        },
        "id": "wDyP8wJPl1aE",
        "outputId": "184b88ea-99bb-4716-cdf0-7f826123dad2"
      },
      "execution_count": 8,
      "outputs": [
        {
          "output_type": "stream",
          "name": "stdout",
          "text": [
            "Epoch 1/30\n",
            "788/788 [==============================] - 16s 19ms/step - loss: 0.5424 - accuracy: 0.8056 - val_loss: 0.4093 - val_accuracy: 0.8524\n",
            "Epoch 2/30\n",
            "788/788 [==============================] - 16s 20ms/step - loss: 0.4015 - accuracy: 0.8537 - val_loss: 0.3893 - val_accuracy: 0.8544\n",
            "Epoch 3/30\n",
            "788/788 [==============================] - 15s 19ms/step - loss: 0.3648 - accuracy: 0.8654 - val_loss: 0.3560 - val_accuracy: 0.8658\n",
            "Epoch 4/30\n",
            "788/788 [==============================] - 15s 19ms/step - loss: 0.3440 - accuracy: 0.8729 - val_loss: 0.3494 - val_accuracy: 0.8707\n",
            "Epoch 5/30\n",
            "788/788 [==============================] - 15s 18ms/step - loss: 0.3260 - accuracy: 0.8809 - val_loss: 0.3326 - val_accuracy: 0.8795\n",
            "Epoch 6/30\n",
            "788/788 [==============================] - 17s 21ms/step - loss: 0.3127 - accuracy: 0.8831 - val_loss: 0.3271 - val_accuracy: 0.8792\n",
            "Epoch 7/30\n",
            "788/788 [==============================] - 15s 19ms/step - loss: 0.3014 - accuracy: 0.8887 - val_loss: 0.3270 - val_accuracy: 0.8812\n",
            "Epoch 8/30\n",
            "788/788 [==============================] - 15s 19ms/step - loss: 0.2911 - accuracy: 0.8925 - val_loss: 0.3272 - val_accuracy: 0.8807\n",
            "Epoch 9/30\n",
            "788/788 [==============================] - 15s 19ms/step - loss: 0.2825 - accuracy: 0.8945 - val_loss: 0.3112 - val_accuracy: 0.8872\n",
            "Epoch 10/30\n",
            "788/788 [==============================] - 15s 19ms/step - loss: 0.2734 - accuracy: 0.8961 - val_loss: 0.3094 - val_accuracy: 0.8879\n",
            "Epoch 11/30\n",
            "788/788 [==============================] - 15s 18ms/step - loss: 0.2646 - accuracy: 0.9012 - val_loss: 0.3239 - val_accuracy: 0.8855\n",
            "Epoch 12/30\n",
            "788/788 [==============================] - 14s 18ms/step - loss: 0.2613 - accuracy: 0.9020 - val_loss: 0.3136 - val_accuracy: 0.8899\n",
            "Epoch 13/30\n",
            "788/788 [==============================] - 14s 18ms/step - loss: 0.2512 - accuracy: 0.9048 - val_loss: 0.3182 - val_accuracy: 0.8903\n",
            "Epoch 14/30\n",
            "788/788 [==============================] - 14s 18ms/step - loss: 0.2445 - accuracy: 0.9067 - val_loss: 0.3235 - val_accuracy: 0.8861\n",
            "Epoch 15/30\n",
            "788/788 [==============================] - 15s 19ms/step - loss: 0.2450 - accuracy: 0.9071 - val_loss: 0.3007 - val_accuracy: 0.8943\n",
            "Epoch 16/30\n",
            "788/788 [==============================] - 15s 19ms/step - loss: 0.2339 - accuracy: 0.9111 - val_loss: 0.3067 - val_accuracy: 0.8953\n",
            "Epoch 17/30\n",
            "788/788 [==============================] - 16s 20ms/step - loss: 0.2342 - accuracy: 0.9098 - val_loss: 0.3159 - val_accuracy: 0.8935\n",
            "Epoch 18/30\n",
            "788/788 [==============================] - 15s 18ms/step - loss: 0.2266 - accuracy: 0.9129 - val_loss: 0.3134 - val_accuracy: 0.8945\n",
            "Epoch 19/30\n",
            "788/788 [==============================] - 15s 19ms/step - loss: 0.2233 - accuracy: 0.9141 - val_loss: 0.3334 - val_accuracy: 0.8887\n",
            "Epoch 20/30\n",
            "788/788 [==============================] - 14s 18ms/step - loss: 0.2222 - accuracy: 0.9158 - val_loss: 0.3000 - val_accuracy: 0.8979\n",
            "Epoch 21/30\n",
            "788/788 [==============================] - 15s 19ms/step - loss: 0.2115 - accuracy: 0.9190 - val_loss: 0.3051 - val_accuracy: 0.8975\n",
            "Epoch 22/30\n",
            "788/788 [==============================] - 26s 34ms/step - loss: 0.2075 - accuracy: 0.9201 - val_loss: 0.3270 - val_accuracy: 0.8936\n",
            "Epoch 23/30\n",
            "788/788 [==============================] - 17s 22ms/step - loss: 0.2055 - accuracy: 0.9204 - val_loss: 0.3240 - val_accuracy: 0.8957\n",
            "Epoch 24/30\n",
            "788/788 [==============================] - 15s 19ms/step - loss: 0.2015 - accuracy: 0.9227 - val_loss: 0.3240 - val_accuracy: 0.8951\n",
            "Epoch 25/30\n",
            "788/788 [==============================] - 15s 19ms/step - loss: 0.1999 - accuracy: 0.9231 - val_loss: 0.3280 - val_accuracy: 0.8975\n",
            "Epoch 26/30\n",
            "788/788 [==============================] - 15s 19ms/step - loss: 0.1938 - accuracy: 0.9259 - val_loss: 0.3300 - val_accuracy: 0.8965\n",
            "Epoch 27/30\n",
            "788/788 [==============================] - 15s 18ms/step - loss: 0.1941 - accuracy: 0.9257 - val_loss: 0.3174 - val_accuracy: 0.8998\n",
            "Epoch 28/30\n",
            "788/788 [==============================] - 15s 19ms/step - loss: 0.1892 - accuracy: 0.9256 - val_loss: 0.3352 - val_accuracy: 0.8983\n",
            "Epoch 29/30\n",
            "788/788 [==============================] - 16s 20ms/step - loss: 0.1838 - accuracy: 0.9292 - val_loss: 0.3158 - val_accuracy: 0.8984\n",
            "Epoch 30/30\n",
            "788/788 [==============================] - 15s 19ms/step - loss: 0.1844 - accuracy: 0.9281 - val_loss: 0.3270 - val_accuracy: 0.8981\n",
            "219/219 [==============================] - 1s 5ms/step - loss: 0.2991 - accuracy: 0.9066\n",
            "Accuracy on test data: 0.9065714478492737\n"
          ]
        }
      ]
    },
    {
      "cell_type": "code",
      "source": [
        "drive.mount('/content/gdrive')\n",
        "\n",
        "model.save('/content/gdrive/MyDrive/modul18_3/model.keras')"
      ],
      "metadata": {
        "colab": {
          "base_uri": "https://localhost:8080/"
        },
        "id": "EjddXNwDD39Q",
        "outputId": "95a2c8d2-8bd5-4fa0-be1a-80292fa1929a"
      },
      "execution_count": 9,
      "outputs": [
        {
          "output_type": "stream",
          "name": "stdout",
          "text": [
            "Mounted at /content/gdrive\n"
          ]
        }
      ]
    },
    {
      "cell_type": "code",
      "source": [
        "loaded_model = tf.keras.models.load_model('/content/gdrive/MyDrive/modul18_3/model.keras')"
      ],
      "metadata": {
        "id": "5sdwDSM6GhED"
      },
      "execution_count": 10,
      "outputs": []
    },
    {
      "cell_type": "code",
      "source": [
        "# Funkcja do przewidywania i wyświetlania obrazu\n",
        "def predict_and_display(index):\n",
        "    input_image = X_test[index]\n",
        "    true_label = y_test[index]\n",
        "\n",
        "    input_image = np.expand_dims(input_image, axis=0)\n",
        "\n",
        "    predicted_label = np.argmax(model.predict(input_image))\n",
        "\n",
        "    plt.imshow(X_test[index], cmap='gray')\n",
        "    plt.title(f'True Label: {true_label}, Predicted Label: {predicted_label}')\n",
        "    plt.show()\n",
        "\n",
        "\n",
        "predict_and_display(0)\n",
        "predict_and_display(1)\n",
        "predict_and_display(2)"
      ],
      "metadata": {
        "colab": {
          "base_uri": "https://localhost:8080/",
          "height": 1000
        },
        "id": "Mep0-BRPnFjU",
        "outputId": "1bd7c457-71f3-409d-88fe-bcad1a59ee7f"
      },
      "execution_count": 11,
      "outputs": [
        {
          "output_type": "stream",
          "name": "stdout",
          "text": [
            "1/1 [==============================] - 0s 130ms/step\n"
          ]
        },
        {
          "output_type": "display_data",
          "data": {
            "text/plain": [
              "<Figure size 640x480 with 1 Axes>"
            ],
            "image/png": "[encoded data removed]"
          },
          "metadata": {}
        },
        {
          "output_type": "stream",
          "name": "stdout",
          "text": [
            "1/1 [==============================] - 0s 22ms/step\n"
          ]
        },
        {
          "output_type": "display_data",
          "data": {
            "text/plain": [
              "<Figure size 640x480 with 1 Axes>"
            ],
            "image/png": "[encoded data removed]"
          },
          "metadata": {}
        },
        {
          "output_type": "stream",
          "name": "stdout",
          "text": [
            "1/1 [==============================] - 0s 23ms/step\n"
          ]
        },
        {
          "output_type": "display_data",
          "data": {
            "text/plain": [
              "<Figure size 640x480 with 1 Axes>"
            ],
            "image/png": "[encoded data removed]"
          },
          "metadata": {}
        }
      ]
    },
    {
      "cell_type": "code",
      "source": [
        "# Funkcja do konwersji i augmentacji obrazów\n",
        "def augment_images(images, labels, n_repeats=2):\n",
        "    augmented_images = []\n",
        "    augmented_labels = []\n",
        "    transform = A.Compose([\n",
        "        A.OneOf([\n",
        "            A.Blur(blur_limit=3, p=0.5),\n",
        "            A.Blur(blur_limit=9, p=0.5),\n",
        "        ], p=1.0),\n",
        "        A.VerticalFlip(p=0.5),\n",
        "        A.HorizontalFlip(p=0.5),\n",
        "        A.RandomBrightnessContrast(brightness_limit=0.2, contrast_limit=0.2, p=0.5),\n",
        "        A.RandomBrightnessContrast(brightness_limit=0.8, contrast_limit=0.8, p=0.5)\n",
        "    ])\n",
        "\n",
        "    for image, label in zip(images, labels):\n",
        "        image = (image * 255).astype(np.uint8)\n",
        "\n",
        "        for _ in range(n_repeats):\n",
        "            augmented = transform(image=image)\n",
        "            augmented_images.append(augmented['image'])\n",
        "            augmented_labels.append(label)\n",
        "\n",
        "    return np.array(augmented_images), np.array(augmented_labels)\n",
        "\n",
        "\n",
        "augmented_X_train, augmented_y_train = augment_images(X_train, y_train)\n",
        "\n",
        "X_train_augmented = np.concatenate((X_train, augmented_X_train), axis=0)\n",
        "y_train_augmented = np.concatenate((y_train, augmented_y_train), axis=0)\n",
        "\n",
        "X_train_augmented, y_train_augmented = shuffle(X_train_augmented, y_train_augmented, random_state=42)"
      ],
      "metadata": {
        "id": "ijRYwB8mBpVq"
      },
      "execution_count": 15,
      "outputs": []
    },
    {
      "cell_type": "code",
      "source": [
        "len(X_train_augmented)"
      ],
      "metadata": {
        "colab": {
          "base_uri": "https://localhost:8080/"
        },
        "id": "S1EBa6Giu_WI",
        "outputId": "7fa8a0db-144e-45a4-cc30-9a4c909dd6f7"
      },
      "execution_count": 16,
      "outputs": [
        {
          "output_type": "execute_result",
          "data": {
            "text/plain": [
              "189000"
            ]
          },
          "metadata": {},
          "execution_count": 16
        }
      ]
    },
    {
      "cell_type": "code",
      "source": [
        "model_v2 = baseline_model()\n",
        "model_v2.fit(X_train_augmented, y_train_augmented, batch_size=128, validation_split=0.2, epochs=30, verbose=1)\n",
        "test_loss_v2, test_acc_v2 = model_v2.evaluate(X_test, y_test)\n",
        "print(f'Accuracy on test data: {test_acc_v2}')"
      ],
      "metadata": {
        "colab": {
          "base_uri": "https://localhost:8080/"
        },
        "id": "Q0tSTN3CPafX",
        "outputId": "8f4aff9b-75cd-497b-c83f-264d2117b556"
      },
      "execution_count": 21,
      "outputs": [
        {
          "output_type": "stream",
          "name": "stdout",
          "text": [
            "Epoch 1/30\n",
            "1182/1182 [==============================] - 32s 26ms/step - loss: 2.3113 - accuracy: 0.2904 - val_loss: 1.5975 - val_accuracy: 0.4021\n",
            "Epoch 2/30\n",
            "1182/1182 [==============================] - 28s 24ms/step - loss: 1.4913 - accuracy: 0.4563 - val_loss: 1.1550 - val_accuracy: 0.5407\n",
            "Epoch 3/30\n",
            "1182/1182 [==============================] - 29s 24ms/step - loss: 1.1987 - accuracy: 0.5542 - val_loss: 0.9612 - val_accuracy: 0.6379\n",
            "Epoch 4/30\n",
            "1182/1182 [==============================] - 30s 26ms/step - loss: 1.0877 - accuracy: 0.5941 - val_loss: 0.9186 - val_accuracy: 0.6438\n",
            "Epoch 5/30\n",
            "1182/1182 [==============================] - 29s 24ms/step - loss: 1.0828 - accuracy: 0.5952 - val_loss: 0.8533 - val_accuracy: 0.6787\n",
            "Epoch 6/30\n",
            "1182/1182 [==============================] - 29s 24ms/step - loss: 0.9844 - accuracy: 0.6233 - val_loss: 0.8212 - val_accuracy: 0.6841\n",
            "Epoch 7/30\n",
            "1182/1182 [==============================] - 27s 23ms/step - loss: 0.9765 - accuracy: 0.6312 - val_loss: 0.8104 - val_accuracy: 0.6840\n",
            "Epoch 8/30\n",
            "1182/1182 [==============================] - 31s 26ms/step - loss: 0.9591 - accuracy: 0.6360 - val_loss: 0.8116 - val_accuracy: 0.6812\n",
            "Epoch 9/30\n",
            "1182/1182 [==============================] - 30s 25ms/step - loss: 0.9991 - accuracy: 0.6254 - val_loss: 0.7953 - val_accuracy: 0.6962\n",
            "Epoch 10/30\n",
            "1182/1182 [==============================] - 29s 25ms/step - loss: 0.8994 - accuracy: 0.6590 - val_loss: 0.7649 - val_accuracy: 0.7083\n",
            "Epoch 11/30\n",
            "1182/1182 [==============================] - 30s 26ms/step - loss: 0.9041 - accuracy: 0.6584 - val_loss: 0.8483 - val_accuracy: 0.6769\n",
            "Epoch 12/30\n",
            "1182/1182 [==============================] - 28s 23ms/step - loss: 0.8943 - accuracy: 0.6640 - val_loss: 0.7563 - val_accuracy: 0.7177\n",
            "Epoch 13/30\n",
            "1182/1182 [==============================] - 29s 25ms/step - loss: 0.8944 - accuracy: 0.6648 - val_loss: 0.9726 - val_accuracy: 0.6422\n",
            "Epoch 14/30\n",
            "1182/1182 [==============================] - 30s 25ms/step - loss: 0.9486 - accuracy: 0.6494 - val_loss: 0.8069 - val_accuracy: 0.7002\n",
            "Epoch 15/30\n",
            "1182/1182 [==============================] - 29s 25ms/step - loss: 0.8501 - accuracy: 0.6807 - val_loss: 0.7300 - val_accuracy: 0.7321\n",
            "Epoch 16/30\n",
            "1182/1182 [==============================] - 28s 23ms/step - loss: 0.8397 - accuracy: 0.6863 - val_loss: 0.7647 - val_accuracy: 0.7360\n",
            "Epoch 17/30\n",
            "1182/1182 [==============================] - 29s 24ms/step - loss: 0.8425 - accuracy: 0.6869 - val_loss: 0.7225 - val_accuracy: 0.7343\n",
            "Epoch 18/30\n",
            "1182/1182 [==============================] - 30s 25ms/step - loss: 0.8480 - accuracy: 0.6839 - val_loss: 0.7727 - val_accuracy: 0.7126\n",
            "Epoch 19/30\n",
            "1182/1182 [==============================] - 29s 25ms/step - loss: 0.8437 - accuracy: 0.6909 - val_loss: 0.7582 - val_accuracy: 0.7242\n",
            "Epoch 20/30\n",
            "1182/1182 [==============================] - 27s 23ms/step - loss: 0.8171 - accuracy: 0.6969 - val_loss: 0.7208 - val_accuracy: 0.7412\n",
            "Epoch 21/30\n",
            "1182/1182 [==============================] - 31s 26ms/step - loss: 0.8408 - accuracy: 0.6891 - val_loss: 0.7129 - val_accuracy: 0.7515\n",
            "Epoch 22/30\n",
            "1182/1182 [==============================] - 29s 24ms/step - loss: 0.8324 - accuracy: 0.6923 - val_loss: 0.7239 - val_accuracy: 0.7356\n",
            "Epoch 23/30\n",
            "1182/1182 [==============================] - 31s 26ms/step - loss: 0.8635 - accuracy: 0.6841 - val_loss: 0.9863 - val_accuracy: 0.6418\n",
            "Epoch 24/30\n",
            "1182/1182 [==============================] - 31s 26ms/step - loss: 0.8593 - accuracy: 0.6839 - val_loss: 0.7422 - val_accuracy: 0.7406\n",
            "Epoch 25/30\n",
            "1182/1182 [==============================] - 28s 23ms/step - loss: 0.8167 - accuracy: 0.7010 - val_loss: 0.7391 - val_accuracy: 0.7405\n",
            "Epoch 26/30\n",
            "1182/1182 [==============================] - 29s 25ms/step - loss: 0.7974 - accuracy: 0.7069 - val_loss: 0.9733 - val_accuracy: 0.6375\n",
            "Epoch 27/30\n",
            "1182/1182 [==============================] - 30s 25ms/step - loss: 0.7965 - accuracy: 0.7071 - val_loss: 0.7223 - val_accuracy: 0.7472\n",
            "Epoch 28/30\n",
            "1182/1182 [==============================] - 29s 25ms/step - loss: 0.7913 - accuracy: 0.7091 - val_loss: 0.8007 - val_accuracy: 0.7107\n",
            "Epoch 29/30\n",
            "1182/1182 [==============================] - 30s 26ms/step - loss: 0.8145 - accuracy: 0.7019 - val_loss: 0.7996 - val_accuracy: 0.7276\n",
            "Epoch 30/30\n",
            "1182/1182 [==============================] - 28s 23ms/step - loss: 0.7773 - accuracy: 0.7154 - val_loss: 0.7644 - val_accuracy: 0.7381\n",
            "219/219 [==============================] - 1s 4ms/step - loss: 0.3005 - accuracy: 0.8890\n",
            "Accuracy on test data: 0.8889999985694885\n"
          ]
        }
      ]
    }
  ]
}