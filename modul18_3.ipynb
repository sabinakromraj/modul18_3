{
  "nbformat": 4,
  "nbformat_minor": 0,
  "metadata": {
    "colab": {
      "provenance": []
    },
    "kernelspec": {
      "name": "python3",
      "display_name": "Python 3"
    },
    "language_info": {
      "name": "python"
    }
  },
  "cells": [
    {
      "cell_type": "code",
      "execution_count": 1,
      "metadata": {
        "id": "NM_dQpvdlfkR"
      },
      "outputs": [],
      "source": [
        "import os\n",
        "import numpy as np\n",
        "import albumentations as A\n",
        "import cv2\n",
        "import matplotlib.pyplot as plt\n",
        "import tensorflow as tf\n",
        "from keras import layers\n",
        "from sklearn.utils import shuffle\n",
        "from sklearn.model_selection import train_test_split\n",
        "from sklearn.model_selection import GridSearchCV\n",
        "from sklearn.metrics import accuracy_score\n",
        "from google.colab import drive"
      ]
    },
    {
      "cell_type": "code",
      "source": [
        "fashion_mnist = tf.keras.datasets.fashion_mnist\n",
        "\n",
        "(train_images, train_labels), (test_images, test_labels) = fashion_mnist.load_data()\n",
        "\n",
        "images = np.concatenate((train_images, test_images), axis=0)\n",
        "labels = np.concatenate((train_labels, test_labels), axis=0)\n",
        "\n",
        "images = images / 255.0\n",
        "labels = labels.astype(np.int32)"
      ],
      "metadata": {
        "id": "4oOG8RCRlmlO",
        "colab": {
          "base_uri": "https://localhost:8080/"
        },
        "outputId": "f3bc8bc6-b6d7-440f-fbcc-68246d571317"
      },
      "execution_count": 2,
      "outputs": [
        {
          "output_type": "stream",
          "name": "stdout",
          "text": [
            "Downloading data from https://storage.googleapis.com/tensorflow/tf-keras-datasets/train-labels-idx1-ubyte.gz\n",
            "29515/29515 [==============================] - 0s 0us/step\n",
            "Downloading data from https://storage.googleapis.com/tensorflow/tf-keras-datasets/train-images-idx3-ubyte.gz\n",
            "26421880/26421880 [==============================] - 0s 0us/step\n",
            "Downloading data from https://storage.googleapis.com/tensorflow/tf-keras-datasets/t10k-labels-idx1-ubyte.gz\n",
            "5148/5148 [==============================] - 0s 0us/step\n",
            "Downloading data from https://storage.googleapis.com/tensorflow/tf-keras-datasets/t10k-images-idx3-ubyte.gz\n",
            "4422102/4422102 [==============================] - 0s 0us/step\n"
          ]
        }
      ]
    },
    {
      "cell_type": "code",
      "source": [
        "def baseline_model():\n",
        "    model = tf.keras.Sequential([\n",
        "        layers.Flatten(input_shape=(28, 28)),\n",
        "        layers.Dense(784, activation='relu', kernel_initializer='normal'),\n",
        "        layers.Dropout(0.2),\n",
        "        layers.Dense(128, activation='relu', kernel_initializer='normal'),\n",
        "        layers.Dropout(0.2),\n",
        "        layers.Dense(10, activation='softmax', kernel_initializer='normal')\n",
        "        ])\n",
        "    model.compile(\n",
        "        loss='sparse_categorical_crossentropy',\n",
        "        optimizer='adam',\n",
        "        metrics=['accuracy']\n",
        "        )\n",
        "\n",
        "    return model\n",
        "\n",
        "\n",
        "X_train, X_test, y_train, y_test = \\\n",
        "    train_test_split(images, labels, test_size=0.1, random_state=10, stratify=labels)\n",
        "\n",
        "tf.data.Dataset.from_tensor_slices((X_train, y_train))"
      ],
      "metadata": {
        "colab": {
          "base_uri": "https://localhost:8080/"
        },
        "id": "8Oy8_4-Blsot",
        "outputId": "a3c76828-374c-45dc-d435-d2b48aa97457"
      },
      "execution_count": 3,
      "outputs": [
        {
          "output_type": "execute_result",
          "data": {
            "text/plain": [
              "<_TensorSliceDataset element_spec=(TensorSpec(shape=(28, 28), dtype=tf.float64, name=None), TensorSpec(shape=(), dtype=tf.int32, name=None))>"
            ]
          },
          "metadata": {},
          "execution_count": 3
        }
      ]
    },
    {
      "cell_type": "code",
      "source": [
        "model = baseline_model()\n",
        "model.fit(X_train, y_train, batch_size=64, validation_split=0.2, epochs=30, verbose=1)\n",
        "test_loss, test_acc = model.evaluate(X_test, y_test)\n",
        "print(f'Accuracy on test data: {test_acc}')"
      ],
      "metadata": {
        "colab": {
          "base_uri": "https://localhost:8080/"
        },
        "id": "wDyP8wJPl1aE",
        "outputId": "489e310a-7790-41b3-afee-3d26fc99585f"
      },
      "execution_count": 4,
      "outputs": [
        {
          "output_type": "stream",
          "name": "stdout",
          "text": [
            "Epoch 1/30\n",
            "788/788 [==============================] - 14s 17ms/step - loss: 0.5434 - accuracy: 0.8055 - val_loss: 0.4153 - val_accuracy: 0.8435\n",
            "Epoch 2/30\n",
            "788/788 [==============================] - 13s 16ms/step - loss: 0.3995 - accuracy: 0.8547 - val_loss: 0.3751 - val_accuracy: 0.8590\n",
            "Epoch 3/30\n",
            "788/788 [==============================] - 12s 16ms/step - loss: 0.3612 - accuracy: 0.8670 - val_loss: 0.3629 - val_accuracy: 0.8663\n",
            "Epoch 4/30\n",
            "788/788 [==============================] - 14s 17ms/step - loss: 0.3414 - accuracy: 0.8749 - val_loss: 0.3423 - val_accuracy: 0.8710\n",
            "Epoch 5/30\n",
            "788/788 [==============================] - 16s 20ms/step - loss: 0.3262 - accuracy: 0.8789 - val_loss: 0.3406 - val_accuracy: 0.8742\n",
            "Epoch 6/30\n",
            "788/788 [==============================] - 13s 17ms/step - loss: 0.3117 - accuracy: 0.8849 - val_loss: 0.3246 - val_accuracy: 0.8817\n",
            "Epoch 7/30\n",
            "788/788 [==============================] - 14s 18ms/step - loss: 0.2974 - accuracy: 0.8888 - val_loss: 0.3253 - val_accuracy: 0.8837\n",
            "Epoch 8/30\n",
            "788/788 [==============================] - 13s 16ms/step - loss: 0.2884 - accuracy: 0.8919 - val_loss: 0.3252 - val_accuracy: 0.8827\n",
            "Epoch 9/30\n",
            "788/788 [==============================] - 12s 15ms/step - loss: 0.2798 - accuracy: 0.8957 - val_loss: 0.3159 - val_accuracy: 0.8859\n",
            "Epoch 10/30\n",
            "788/788 [==============================] - 12s 15ms/step - loss: 0.2702 - accuracy: 0.8987 - val_loss: 0.3243 - val_accuracy: 0.8861\n",
            "Epoch 11/30\n",
            "788/788 [==============================] - 13s 17ms/step - loss: 0.2640 - accuracy: 0.9000 - val_loss: 0.3351 - val_accuracy: 0.8837\n",
            "Epoch 12/30\n",
            "788/788 [==============================] - 13s 17ms/step - loss: 0.2576 - accuracy: 0.9027 - val_loss: 0.3132 - val_accuracy: 0.8873\n",
            "Epoch 13/30\n",
            "788/788 [==============================] - 13s 17ms/step - loss: 0.2529 - accuracy: 0.9042 - val_loss: 0.3103 - val_accuracy: 0.8879\n",
            "Epoch 14/30\n",
            "788/788 [==============================] - 13s 16ms/step - loss: 0.2451 - accuracy: 0.9075 - val_loss: 0.3143 - val_accuracy: 0.8856\n",
            "Epoch 15/30\n",
            "788/788 [==============================] - 13s 16ms/step - loss: 0.2408 - accuracy: 0.9095 - val_loss: 0.3152 - val_accuracy: 0.8887\n",
            "Epoch 16/30\n",
            "788/788 [==============================] - 13s 17ms/step - loss: 0.2362 - accuracy: 0.9097 - val_loss: 0.3111 - val_accuracy: 0.8956\n",
            "Epoch 17/30\n",
            "788/788 [==============================] - 13s 16ms/step - loss: 0.2311 - accuracy: 0.9119 - val_loss: 0.3122 - val_accuracy: 0.8959\n",
            "Epoch 18/30\n",
            "788/788 [==============================] - 13s 17ms/step - loss: 0.2263 - accuracy: 0.9136 - val_loss: 0.3013 - val_accuracy: 0.8950\n",
            "Epoch 19/30\n",
            "788/788 [==============================] - 13s 17ms/step - loss: 0.2240 - accuracy: 0.9152 - val_loss: 0.3251 - val_accuracy: 0.8942\n",
            "Epoch 20/30\n",
            "788/788 [==============================] - 13s 16ms/step - loss: 0.2164 - accuracy: 0.9186 - val_loss: 0.3232 - val_accuracy: 0.8929\n",
            "Epoch 21/30\n",
            "788/788 [==============================] - 14s 18ms/step - loss: 0.2121 - accuracy: 0.9185 - val_loss: 0.3154 - val_accuracy: 0.8937\n",
            "Epoch 22/30\n",
            "788/788 [==============================] - 13s 16ms/step - loss: 0.2114 - accuracy: 0.9195 - val_loss: 0.3332 - val_accuracy: 0.8911\n",
            "Epoch 23/30\n",
            "788/788 [==============================] - 12s 15ms/step - loss: 0.2044 - accuracy: 0.9218 - val_loss: 0.3200 - val_accuracy: 0.8953\n",
            "Epoch 24/30\n",
            "788/788 [==============================] - 12s 15ms/step - loss: 0.2009 - accuracy: 0.9223 - val_loss: 0.3190 - val_accuracy: 0.8953\n",
            "Epoch 25/30\n",
            "788/788 [==============================] - 12s 16ms/step - loss: 0.1983 - accuracy: 0.9229 - val_loss: 0.3357 - val_accuracy: 0.8967\n",
            "Epoch 26/30\n",
            "788/788 [==============================] - 13s 17ms/step - loss: 0.1944 - accuracy: 0.9251 - val_loss: 0.3292 - val_accuracy: 0.8962\n",
            "Epoch 27/30\n",
            "788/788 [==============================] - 13s 17ms/step - loss: 0.1930 - accuracy: 0.9266 - val_loss: 0.3450 - val_accuracy: 0.8997\n",
            "Epoch 28/30\n",
            "788/788 [==============================] - 22s 27ms/step - loss: 0.1869 - accuracy: 0.9272 - val_loss: 0.3409 - val_accuracy: 0.8985\n",
            "Epoch 29/30\n",
            "788/788 [==============================] - 14s 18ms/step - loss: 0.1855 - accuracy: 0.9287 - val_loss: 0.3270 - val_accuracy: 0.8988\n",
            "Epoch 30/30\n",
            "788/788 [==============================] - 14s 17ms/step - loss: 0.1818 - accuracy: 0.9306 - val_loss: 0.3399 - val_accuracy: 0.8974\n",
            "219/219 [==============================] - 1s 4ms/step - loss: 0.3101 - accuracy: 0.9030\n",
            "Accuracy on test data: 0.902999997138977\n"
          ]
        }
      ]
    },
    {
      "cell_type": "code",
      "source": [
        "drive.mount('/content/gdrive')\n",
        "\n",
        "model.save('/content/gdrive/MyDrive/modul18_3/model.keras')"
      ],
      "metadata": {
        "colab": {
          "base_uri": "https://localhost:8080/"
        },
        "id": "EjddXNwDD39Q",
        "outputId": "986a8504-7771-4013-ff16-120e0895d438"
      },
      "execution_count": 5,
      "outputs": [
        {
          "output_type": "stream",
          "name": "stdout",
          "text": [
            "Mounted at /content/gdrive\n"
          ]
        }
      ]
    },
    {
      "cell_type": "code",
      "source": [
        "loaded_model = tf.keras.models.load_model('/content/gdrive/MyDrive/modul18_3/model.keras')"
      ],
      "metadata": {
        "id": "5sdwDSM6GhED"
      },
      "execution_count": 6,
      "outputs": []
    },
    {
      "cell_type": "code",
      "source": [
        "class_names = {\n",
        "    0: \"T-shirt/top\",\n",
        "    1: \"Trouser\",\n",
        "    2: \"Pullover\",\n",
        "    3: \"Dress\",\n",
        "    4: \"Coat\",\n",
        "    5: \"Sandal\",\n",
        "    6: \"Shirt\",\n",
        "    7: \"Sneaker\",\n",
        "    8: \"Bag\",\n",
        "    9: \"Ankle boot\"\n",
        "}\n",
        "\n",
        "\n",
        "def predict_and_display(index):\n",
        "    input_image = X_test[index]\n",
        "    true_label = y_test[index]\n",
        "\n",
        "    input_image = np.expand_dims(input_image, axis=0)\n",
        "\n",
        "    predicted_label = np.argmax(model.predict(input_image))\n",
        "    predicted_class_name = class_names[predicted_label]\n",
        "    true_class_name = class_names[true_label]\n",
        "\n",
        "    plt.imshow(X_test[index], cmap='gray')\n",
        "    plt.title(f'Index: {index}, True Label: {true_class_name}, Predicted Label: {predicted_class_name}')\n",
        "    plt.show()\n",
        "\n",
        "\n",
        "predict_and_display(0)\n",
        "predict_and_display(2)\n",
        "predict_and_display(4)"
      ],
      "metadata": {
        "colab": {
          "base_uri": "https://localhost:8080/",
          "height": 1000
        },
        "id": "d26BBDX_Y8U3",
        "outputId": "6726f513-b539-43e7-8eb5-b64dac86e3c2"
      },
      "execution_count": 26,
      "outputs": [
        {
          "output_type": "stream",
          "name": "stdout",
          "text": [
            "1/1 [==============================] - 0s 31ms/step\n"
          ]
        },
        {
          "output_type": "display_data",
          "data": {
            "text/plain": [
              "<Figure size 640x480 with 1 Axes>"
            ],
            "image/png": "[encoded data removed]"
          },
          "metadata": {}
        },
        {
          "output_type": "stream",
          "name": "stdout",
          "text": [
            "1/1 [==============================] - 0s 22ms/step\n"
          ]
        },
        {
          "output_type": "display_data",
          "data": {
            "text/plain": [
              "<Figure size 640x480 with 1 Axes>"
            ],
            "image/png": "[encoded data removed]"
          },
          "metadata": {}
        },
        {
          "output_type": "stream",
          "name": "stdout",
          "text": [
            "1/1 [==============================] - 0s 20ms/step\n"
          ]
        },
        {
          "output_type": "display_data",
          "data": {
            "text/plain": [
              "<Figure size 640x480 with 1 Axes>"
            ],
            "image/png": "[encoded data removed]"
          },
          "metadata": {}
        }
      ]
    },
    {
      "cell_type": "code",
      "source": [
        "# Funkcja do konwersji i augmentacji obrazów\n",
        "def augment_images(images, labels, n_repeats=2):\n",
        "    augmented_images = []\n",
        "    augmented_labels = []\n",
        "    transform = A.Compose([\n",
        "        A.OneOf([\n",
        "            A.Blur(blur_limit=3, p=0.5),\n",
        "            A.Blur(blur_limit=9, p=0.5),\n",
        "        ], p=1.0),\n",
        "        A.VerticalFlip(p=0.5),\n",
        "        A.HorizontalFlip(p=0.5),\n",
        "        A.RandomBrightnessContrast(brightness_limit=0.2, contrast_limit=0.2, p=0.5),\n",
        "        A.RandomBrightnessContrast(brightness_limit=0.8, contrast_limit=0.8, p=0.5)\n",
        "    ])\n",
        "\n",
        "    for image, label in zip(images, labels):\n",
        "        image = (image * 255).astype(np.uint8)\n",
        "\n",
        "        for _ in range(n_repeats):\n",
        "            augmented = transform(image=image)\n",
        "            augmented_images.append(augmented['image'])\n",
        "            augmented_labels.append(label)\n",
        "\n",
        "    return np.array(augmented_images), np.array(augmented_labels)\n",
        "\n",
        "\n",
        "augmented_X_train, augmented_y_train = augment_images(X_train, y_train)\n",
        "\n",
        "X_train_augmented = np.concatenate((X_train, augmented_X_train), axis=0)\n",
        "y_train_augmented = np.concatenate((y_train, augmented_y_train), axis=0)\n",
        "\n",
        "X_train_augmented, y_train_augmented = shuffle(X_train_augmented, y_train_augmented, random_state=42)"
      ],
      "metadata": {
        "id": "ijRYwB8mBpVq"
      },
      "execution_count": 27,
      "outputs": []
    },
    {
      "cell_type": "code",
      "source": [
        "len(X_train_augmented)"
      ],
      "metadata": {
        "colab": {
          "base_uri": "https://localhost:8080/"
        },
        "id": "S1EBa6Giu_WI",
        "outputId": "e2ea67d1-a35a-4aa6-e3f6-01222c7faa91"
      },
      "execution_count": 28,
      "outputs": [
        {
          "output_type": "execute_result",
          "data": {
            "text/plain": [
              "189000"
            ]
          },
          "metadata": {},
          "execution_count": 28
        }
      ]
    },
    {
      "cell_type": "code",
      "source": [
        "model_v2 = baseline_model()\n",
        "model_v2.fit(X_train_augmented, y_train_augmented, batch_size=128, validation_split=0.2, epochs=30, verbose=1)\n",
        "test_loss_v2, test_acc_v2 = model_v2.evaluate(X_test, y_test)\n",
        "print(f'Accuracy on test data: {test_acc_v2}')"
      ],
      "metadata": {
        "colab": {
          "base_uri": "https://localhost:8080/"
        },
        "id": "Q0tSTN3CPafX",
        "outputId": "e396978d-6dad-4143-abf3-a9f85aa8b27a"
      },
      "execution_count": 29,
      "outputs": [
        {
          "output_type": "stream",
          "name": "stdout",
          "text": [
            "Epoch 1/30\n",
            "1182/1182 [==============================] - 29s 24ms/step - loss: 2.2885 - accuracy: 0.3014 - val_loss: 1.5142 - val_accuracy: 0.4477\n",
            "Epoch 2/30\n",
            "1182/1182 [==============================] - 28s 24ms/step - loss: 1.3604 - accuracy: 0.4952 - val_loss: 1.1030 - val_accuracy: 0.5598\n",
            "Epoch 3/30\n",
            "1182/1182 [==============================] - 28s 24ms/step - loss: 1.1235 - accuracy: 0.5729 - val_loss: 0.9604 - val_accuracy: 0.6246\n",
            "Epoch 4/30\n",
            "1182/1182 [==============================] - 27s 23ms/step - loss: 1.0229 - accuracy: 0.6109 - val_loss: 0.8475 - val_accuracy: 0.6756\n",
            "Epoch 5/30\n",
            "1182/1182 [==============================] - 27s 23ms/step - loss: 0.9875 - accuracy: 0.6280 - val_loss: 0.8552 - val_accuracy: 0.6606\n",
            "Epoch 6/30\n",
            "1182/1182 [==============================] - 25s 22ms/step - loss: 0.9632 - accuracy: 0.6370 - val_loss: 0.8001 - val_accuracy: 0.6987\n",
            "Epoch 7/30\n",
            "1182/1182 [==============================] - 28s 24ms/step - loss: 0.9429 - accuracy: 0.6466 - val_loss: 0.7839 - val_accuracy: 0.7007\n",
            "Epoch 8/30\n",
            "1182/1182 [==============================] - 27s 22ms/step - loss: 0.9256 - accuracy: 0.6520 - val_loss: 0.8017 - val_accuracy: 0.6804\n",
            "Epoch 9/30\n",
            "1182/1182 [==============================] - 26s 22ms/step - loss: 0.9279 - accuracy: 0.6503 - val_loss: 0.7822 - val_accuracy: 0.7116\n",
            "Epoch 10/30\n",
            "1182/1182 [==============================] - 27s 23ms/step - loss: 0.8913 - accuracy: 0.6639 - val_loss: 0.7578 - val_accuracy: 0.7172\n",
            "Epoch 11/30\n",
            "1182/1182 [==============================] - 28s 24ms/step - loss: 0.8743 - accuracy: 0.6715 - val_loss: 0.7261 - val_accuracy: 0.7248\n",
            "Epoch 12/30\n",
            "1182/1182 [==============================] - 25s 21ms/step - loss: 0.8738 - accuracy: 0.6715 - val_loss: 0.7437 - val_accuracy: 0.7225\n",
            "Epoch 13/30\n",
            "1182/1182 [==============================] - 27s 23ms/step - loss: 0.8456 - accuracy: 0.6811 - val_loss: 0.7498 - val_accuracy: 0.7218\n",
            "Epoch 14/30\n",
            "1182/1182 [==============================] - 25s 21ms/step - loss: 0.8557 - accuracy: 0.6807 - val_loss: 0.7331 - val_accuracy: 0.7300\n",
            "Epoch 15/30\n",
            "1182/1182 [==============================] - 26s 22ms/step - loss: 0.8402 - accuracy: 0.6857 - val_loss: 0.7283 - val_accuracy: 0.7348\n",
            "Epoch 16/30\n",
            "1182/1182 [==============================] - 26s 22ms/step - loss: 0.8464 - accuracy: 0.6852 - val_loss: 0.7434 - val_accuracy: 0.7317\n",
            "Epoch 17/30\n",
            "1182/1182 [==============================] - 26s 22ms/step - loss: 0.8494 - accuracy: 0.6844 - val_loss: 0.7970 - val_accuracy: 0.7076\n",
            "Epoch 18/30\n",
            "1182/1182 [==============================] - 28s 23ms/step - loss: 0.8296 - accuracy: 0.6905 - val_loss: 0.7238 - val_accuracy: 0.7331\n",
            "Epoch 19/30\n",
            "1182/1182 [==============================] - 25s 21ms/step - loss: 0.8103 - accuracy: 0.6982 - val_loss: 0.6999 - val_accuracy: 0.7492\n",
            "Epoch 20/30\n",
            "1182/1182 [==============================] - 27s 23ms/step - loss: 0.7984 - accuracy: 0.7028 - val_loss: 0.7233 - val_accuracy: 0.7309\n",
            "Epoch 21/30\n",
            "1182/1182 [==============================] - 29s 24ms/step - loss: 0.7998 - accuracy: 0.7015 - val_loss: 0.7098 - val_accuracy: 0.7493\n",
            "Epoch 22/30\n",
            "1182/1182 [==============================] - 25s 21ms/step - loss: 0.8111 - accuracy: 0.7013 - val_loss: 0.7258 - val_accuracy: 0.7453\n",
            "Epoch 23/30\n",
            "1182/1182 [==============================] - 28s 24ms/step - loss: 0.8188 - accuracy: 0.6988 - val_loss: 0.7343 - val_accuracy: 0.7388\n",
            "Epoch 24/30\n",
            "1182/1182 [==============================] - 29s 24ms/step - loss: 0.7737 - accuracy: 0.7107 - val_loss: 0.7956 - val_accuracy: 0.7239\n",
            "Epoch 25/30\n",
            "1182/1182 [==============================] - 24s 21ms/step - loss: 0.7896 - accuracy: 0.7108 - val_loss: 0.7987 - val_accuracy: 0.7128\n",
            "Epoch 26/30\n",
            "1182/1182 [==============================] - 28s 23ms/step - loss: 0.7973 - accuracy: 0.7052 - val_loss: 0.8285 - val_accuracy: 0.6929\n",
            "Epoch 27/30\n",
            "1182/1182 [==============================] - 29s 25ms/step - loss: 0.8136 - accuracy: 0.7015 - val_loss: 0.7209 - val_accuracy: 0.7498\n",
            "Epoch 28/30\n",
            "1182/1182 [==============================] - 26s 22ms/step - loss: 0.7758 - accuracy: 0.7133 - val_loss: 0.7232 - val_accuracy: 0.7451\n",
            "Epoch 29/30\n",
            "1182/1182 [==============================] - 27s 23ms/step - loss: 0.7710 - accuracy: 0.7142 - val_loss: 0.7446 - val_accuracy: 0.7354\n",
            "Epoch 30/30\n",
            "1182/1182 [==============================] - 27s 23ms/step - loss: 0.7605 - accuracy: 0.7174 - val_loss: 0.7009 - val_accuracy: 0.7564\n",
            "219/219 [==============================] - 1s 4ms/step - loss: 0.3002 - accuracy: 0.8911\n",
            "Accuracy on test data: 0.8911428451538086\n"
          ]
        }
      ]
    },
    {
      "cell_type": "code",
      "source": [],
      "metadata": {
        "id": "bOHy44VtmKwJ"
      },
      "execution_count": null,
      "outputs": []
    }
  ]
}